{
 "cells": [
  {
   "cell_type": "code",
   "execution_count": 1,
   "metadata": {},
   "outputs": [],
   "source": [
    "import pandas as pd\n",
    "import numpy as np\n",
    "from sklearn.feature_extraction.text import TfidfVectorizer\n",
    "from sklearn.decomposition import LatentDirichletAllocation"
   ]
  },
  {
   "cell_type": "code",
   "execution_count": 2,
   "metadata": {},
   "outputs": [],
   "source": [
    "poems = pd.read_csv('./data/best_164443.csv')"
   ]
  },
  {
   "cell_type": "code",
   "execution_count": 3,
   "metadata": {},
   "outputs": [
    {
     "name": "stdout",
     "output_type": "stream",
     "text": [
      "(164443, 2)\n"
     ]
    },
    {
     "data": {
      "text/html": [
       "<div>\n",
       "<style scoped>\n",
       "    .dataframe tbody tr th:only-of-type {\n",
       "        vertical-align: middle;\n",
       "    }\n",
       "\n",
       "    .dataframe tbody tr th {\n",
       "        vertical-align: top;\n",
       "    }\n",
       "\n",
       "    .dataframe thead th {\n",
       "        text-align: right;\n",
       "    }\n",
       "</style>\n",
       "<table border=\"1\" class=\"dataframe\">\n",
       "  <thead>\n",
       "    <tr style=\"text-align: right;\">\n",
       "      <th></th>\n",
       "      <th>author</th>\n",
       "      <th>text</th>\n",
       "    </tr>\n",
       "  </thead>\n",
       "  <tbody>\n",
       "    <tr>\n",
       "      <th>0</th>\n",
       "      <td>Марина Копсергенова</td>\n",
       "      <td>\\r\\nДетки мои  Живите неспеша   чтоб пела ...</td>\n",
       "    </tr>\n",
       "    <tr>\n",
       "      <th>1</th>\n",
       "      <td>Владислав Иванов 13</td>\n",
       "      <td>Каждый по своему проводит свою ночь\\r\\nКто спи...</td>\n",
       "    </tr>\n",
       "    <tr>\n",
       "      <th>2</th>\n",
       "      <td>Лия Эль</td>\n",
       "      <td>Нежно так  я словами касался предплечий\\r\\nИх ...</td>\n",
       "    </tr>\n",
       "    <tr>\n",
       "      <th>3</th>\n",
       "      <td>Елена Кедровая Шишка</td>\n",
       "      <td>Ты  как всегда  меня поймешь\\r\\nИ  как всегда ...</td>\n",
       "    </tr>\n",
       "    <tr>\n",
       "      <th>4</th>\n",
       "      <td>Леонид Хегай</td>\n",
       "      <td>Укусить бы кого нибудь больно\\r\\nиль повыть  п...</td>\n",
       "    </tr>\n",
       "  </tbody>\n",
       "</table>\n",
       "</div>"
      ],
      "text/plain": [
       "                 author                                               text\n",
       "0   Марина Копсергенова      \\r\\nДетки мои  Живите неспеша   чтоб пела ...\n",
       "1   Владислав Иванов 13  Каждый по своему проводит свою ночь\\r\\nКто спи...\n",
       "2               Лия Эль  Нежно так  я словами касался предплечий\\r\\nИх ...\n",
       "3  Елена Кедровая Шишка  Ты  как всегда  меня поймешь\\r\\nИ  как всегда ...\n",
       "4          Леонид Хегай  Укусить бы кого нибудь больно\\r\\nиль повыть  п..."
      ]
     },
     "execution_count": 3,
     "metadata": {},
     "output_type": "execute_result"
    }
   ],
   "source": [
    "print(poems.shape)\n",
    "poems.head()"
   ]
  },
  {
   "cell_type": "code",
   "execution_count": 4,
   "metadata": {},
   "outputs": [
    {
     "data": {
      "text/plain": [
       "'Рубить деревья не растить\\r\\nЛомать  конечно же  не строить\\r\\nКто не умеет с честью жить\\r\\nТот райских кущ святых не стоит'"
      ]
     },
     "metadata": {},
     "output_type": "display_data"
    },
    {
     "name": "stdout",
     "output_type": "stream",
     "text": [
      "Рубить деревья не растить\r\n",
      "Ломать  конечно же  не строить\r\n",
      "Кто не умеет с честью жить\r\n",
      "Тот райских кущ святых не стоит\n"
     ]
    }
   ],
   "source": [
    "display(poems['text'][42])\n",
    "print(poems['text'][42])"
   ]
  },
  {
   "cell_type": "code",
   "execution_count": 5,
   "metadata": {},
   "outputs": [
    {
     "name": "stdout",
     "output_type": "stream",
     "text": [
      "['и', 'в', 'во', 'не', 'что'] 151\n"
     ]
    }
   ],
   "source": [
    "from nltk.corpus import stopwords\n",
    "stop_words = stopwords.words('russian')\n",
    "print(stop_words[0:5], len(stop_words))"
   ]
  },
  {
   "cell_type": "code",
   "execution_count": 6,
   "metadata": {},
   "outputs": [
    {
     "name": "stdout",
     "output_type": "stream",
     "text": [
      "(164443, 23252)\n",
      "Wall time: 17.4 s\n"
     ]
    }
   ],
   "source": [
    "%%time\n",
    "tfidf = TfidfVectorizer(stop_words=stop_words, min_df=50)\n",
    "X_trf = tfidf.fit_transform(poems['text'])\n",
    "tf_feature_names = tfidf.get_feature_names()\n",
    "print(X_trf.shape)"
   ]
  },
  {
   "cell_type": "code",
   "execution_count": 7,
   "metadata": {},
   "outputs": [
    {
     "name": "stderr",
     "output_type": "stream",
     "text": [
      "C:\\Users\\denis\\Anaconda3\\envs\\tf\\lib\\site-packages\\sklearn\\decomposition\\online_lda.py:294: DeprecationWarning: n_topics has been renamed to n_components in version 0.19 and will be removed in 0.21\n",
      "  DeprecationWarning)\n"
     ]
    },
    {
     "name": "stdout",
     "output_type": "stream",
     "text": [
      "iteration: 1 of max_iter: 5\n",
      "iteration: 2 of max_iter: 5\n",
      "iteration: 3 of max_iter: 5\n",
      "iteration: 4 of max_iter: 5\n",
      "iteration: 5 of max_iter: 5\n"
     ]
    },
    {
     "data": {
      "text/plain": [
       "LatentDirichletAllocation(batch_size=128, doc_topic_prior=None,\n",
       "             evaluate_every=-1, learning_decay=0.7,\n",
       "             learning_method='online', learning_offset=50.0,\n",
       "             max_doc_update_iter=100, max_iter=5, mean_change_tol=0.001,\n",
       "             n_components=10, n_jobs=1, n_topics=20, perp_tol=0.1,\n",
       "             random_state=42, topic_word_prior=None,\n",
       "             total_samples=1000000.0, verbose=1)"
      ]
     },
     "execution_count": 7,
     "metadata": {},
     "output_type": "execute_result"
    }
   ],
   "source": [
    "no_topics = 20\n",
    "lda = LatentDirichletAllocation(n_topics=no_topics, \n",
    "                                max_iter=5,\n",
    "                                learning_method='online', \n",
    "                                learning_offset=50.,\n",
    "                                random_state=42,\n",
    "                                verbose = 1)\n",
    "lda.fit(X_trf)"
   ]
  },
  {
   "cell_type": "code",
   "execution_count": 8,
   "metadata": {},
   "outputs": [
    {
     "name": "stdout",
     "output_type": "stream",
     "text": [
      "\n",
      "Topic 0:\n",
      "снегами цветной рога ссоре дурь ярости теплота опоры богини пылу\n",
      "\n",
      "Topic 1:\n",
      "россии народ россия россию президент сша путин русская стране народа\n",
      "\n",
      "Topic 2:\n",
      "иллюстрация стихам творя корабле болеет сливаются помолчать чернота сменив осуждай\n",
      "\n",
      "Topic 3:\n",
      "наперёд звеня умеют споры сыр вправе скользя цветочки лапой адам\n",
      "\n",
      "Topic 4:\n",
      "петербург санкт водопад оценит чарующий жаркие ду мглы перепутье табу\n",
      "\n",
      "Topic 5:\n",
      "собчак ку морозе чу мышки взлетаю соло закрома ве длань\n",
      "\n",
      "Topic 6:\n",
      "царица глубина обеду желанна строчке полынь спрячу монах радостной бездарно\n",
      "\n",
      "Topic 7:\n",
      "the and you to in of my is it me\n",
      "\n",
      "Topic 8:\n",
      "що ти як бо ми та мене це вже коли\n",
      "\n",
      "Topic 9:\n",
      "всё это лишь тебе нам жизнь жизни любовь пусть сердце\n",
      "\n",
      "Topic 10:\n",
      "марта кошка кот старик рожденья стоял луне улицы пел ноябрь\n",
      "\n",
      "Topic 11:\n",
      "режут смеёшься тревожный агонии домашний ассоль наваждение тошнит бесконечен новогодняя\n",
      "\n",
      "Topic 12:\n",
      "пушистый рубаи бальзам радуют приемлю нелюбовь задумчиво хайяма блещет порох\n",
      "\n",
      "Topic 13:\n",
      "взлёт делили што растворяюсь воскрес славить чужд придачу обычное фу\n",
      "\n",
      "Topic 14:\n",
      "ноябре тик сплин вагоне розой везло свадьба пасмурно скулы слуга\n",
      "\n",
      "Topic 15:\n",
      "морозец близость наполнены обратный звучал горьким прошедшее провожал сень ритма\n",
      "\n",
      "Topic 16:\n",
      "исповедь ме накал аз глупостей иуда предлагают добротою попытке слона\n",
      "\n",
      "Topic 17:\n",
      "замело богатым красивее весенняя гроздь травою молитвою позолотой дорожит сжигаю\n",
      "\n",
      "Topic 18:\n",
      "компьютер потеряны лимит акварель блуждают сферы вер вольные предрассудков девичий\n",
      "\n",
      "Topic 19:\n",
      "осень снег ветер зима листья солнце лето дождь небо осенний\n"
     ]
    }
   ],
   "source": [
    "# top words for topic \n",
    "no_top_words = 10\n",
    "for topic_idx, topic in enumerate(lda.components_):\n",
    "    print('\\nTopic %d:' % (topic_idx))\n",
    "    print(' '.join([tf_feature_names[i] for i in topic.argsort()[:-no_top_words - 1:-1]]))"
   ]
  },
  {
   "cell_type": "code",
   "execution_count": null,
   "metadata": {},
   "outputs": [],
   "source": []
  }
 ],
 "metadata": {
  "kernelspec": {
   "display_name": "Python 3",
   "language": "python",
   "name": "python3"
  },
  "language_info": {
   "codemirror_mode": {
    "name": "ipython",
    "version": 3
   },
   "file_extension": ".py",
   "mimetype": "text/x-python",
   "name": "python",
   "nbconvert_exporter": "python",
   "pygments_lexer": "ipython3",
   "version": "3.5.5"
  }
 },
 "nbformat": 4,
 "nbformat_minor": 2
}
