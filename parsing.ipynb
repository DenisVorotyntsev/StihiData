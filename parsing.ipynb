{
 "cells": [
  {
   "cell_type": "code",
   "execution_count": null,
   "metadata": {},
   "outputs": [],
   "source": [
    "import requests\n",
    "import pandas as pd\n",
    "from bs4 import BeautifulSoup\n",
    "import re\n",
    "import numpy as np\n",
    "import os \n",
    "import urllib"
   ]
  },
  {
   "cell_type": "code",
   "execution_count": null,
   "metadata": {},
   "outputs": [],
   "source": [
    "results_save_folder = './data/raw/'"
   ]
  },
  {
   "cell_type": "code",
   "execution_count": null,
   "metadata": {
    "scrolled": true
   },
   "outputs": [],
   "source": [
    "texsts = []\n",
    "authors = []\n",
    "\n",
    "numb = 5 # for test purpose, for real parsing change it to bigger number, i.e. 1000\n",
    "file_count = 0\n",
    "\n",
    "while True:         \n",
    "    year = np.random.choice(np.arange(2014,2019))\n",
    "    month = np.random.choice(np.arange(1,13))\n",
    "    day = np.random.choice(np.arange(1,32))\n",
    "    at = np.random.choice(np.arange(10000))\n",
    "    at = str(at)\n",
    "            \n",
    "    y = str(year)\n",
    "    m = '0'+str(month) if month<10 else str(month) \n",
    "    d = '0'+str(day) if month<10 else str(day) \n",
    "            \n",
    "    link = 'http://www.stihi.ru/'+y+'/'+m+'/'+d+'/'+at\n",
    "                \n",
    "    try:\n",
    "        r = requests.get(link) \n",
    "        data = r.text\n",
    "        soup = BeautifulSoup(data, 'html.parser') \n",
    "        text = soup.body.table.tr.td.findAll('div')[2].text\n",
    "        author = soup.body.table.tr.td.findAll('div')[1].text\n",
    "                    \n",
    "        texsts.append(text)\n",
    "        authors.append(author)\n",
    "                \n",
    "    except:\n",
    "        pass\n",
    "                \n",
    "                \n",
    "    if ((len(texsts) % numb) == 0):\n",
    "        df = pd.DataFrame({'author': authors, 'text': texsts})\n",
    "        df = df.drop_duplicates()\n",
    "                    \n",
    "        pth = results_save_folder + str(file_count) + 'year' + y + '.csv'\n",
    "        df.to_csv(pth, index=False) \n",
    "                    \n",
    "        file_count = file_count + 1 \n",
    "                    \n",
    "        authors = []\n",
    "        texsts = []"
   ]
  },
  {
   "cell_type": "code",
   "execution_count": null,
   "metadata": {},
   "outputs": [],
   "source": []
  }
 ],
 "metadata": {
  "kernelspec": {
   "display_name": "Python 3",
   "language": "python",
   "name": "python3"
  },
  "language_info": {
   "codemirror_mode": {
    "name": "ipython",
    "version": 3
   },
   "file_extension": ".py",
   "mimetype": "text/x-python",
   "name": "python",
   "nbconvert_exporter": "python",
   "pygments_lexer": "ipython3",
   "version": "3.5.5"
  }
 },
 "nbformat": 4,
 "nbformat_minor": 2
}
